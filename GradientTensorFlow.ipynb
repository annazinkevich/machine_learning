{
  "nbformat": 4,
  "nbformat_minor": 0,
  "metadata": {
    "colab": {
      "provenance": [],
      "authorship_tag": "ABX9TyNrR8b9EZT7K4ukcUxbSKlb",
      "include_colab_link": true
    },
    "kernelspec": {
      "name": "python3",
      "display_name": "Python 3"
    },
    "language_info": {
      "name": "python"
    }
  },
  "cells": [
    {
      "cell_type": "markdown",
      "metadata": {
        "id": "view-in-github",
        "colab_type": "text"
      },
      "source": [
        "<a href=\"https://colab.research.google.com/github/annazinkevich/machine_learning/blob/TensorFlow/GradientTensorFlow.ipynb\" target=\"_parent\"><img src=\"https://colab.research.google.com/assets/colab-badge.svg\" alt=\"Open In Colab\"/></a>"
      ]
    },
    {
      "cell_type": "markdown",
      "source": [
        "Вычисление производных с помощью вычислительного графа"
      ],
      "metadata": {
        "id": "xTVoVy0WpxHp"
      }
    },
    {
      "cell_type": "code",
      "execution_count": null,
      "metadata": {
        "id": "yOnL0aA0pLfS"
      },
      "outputs": [],
      "source": [
        "import tensorflow as tf"
      ]
    },
    {
      "cell_type": "markdown",
      "source": [
        "Создаем переменные на уровне tensorflow"
      ],
      "metadata": {
        "id": "CsLMdbz1qEHl"
      }
    },
    {
      "cell_type": "code",
      "source": [
        "x = tf.Variable([[2.0]])\n",
        "y = tf.Variable([[-4.0]])"
      ],
      "metadata": {
        "id": "-z1aJtglqIcA"
      },
      "execution_count": null,
      "outputs": []
    },
    {
      "cell_type": "markdown",
      "source": [
        "Сохраняем все промежуточные значения в графе вычислений для последующего расчета производных"
      ],
      "metadata": {
        "id": "ZPlpAQbZqXle"
      }
    },
    {
      "cell_type": "code",
      "source": [
        "with tf.GradientTape() as tape:\n",
        "  f = (x + y) ** 2 + 2 * x * y"
      ],
      "metadata": {
        "id": "ZK4pDKz9qXDy"
      },
      "execution_count": null,
      "outputs": []
    },
    {
      "cell_type": "markdown",
      "source": [
        "Численные значения частных производных в заданной точке"
      ],
      "metadata": {
        "id": "VrgoZFCWrFAr"
      }
    },
    {
      "cell_type": "code",
      "source": [
        "df = tape.gradient(f, [x, y])\n",
        "print(df[0], df[1], sep=\"\\n\")"
      ],
      "metadata": {
        "colab": {
          "base_uri": "https://localhost:8080/"
        },
        "id": "tVPz7oW_rJtr",
        "outputId": "f91b6e0b-4025-4a5d-c16f-3227d0af99e4"
      },
      "execution_count": null,
      "outputs": [
        {
          "output_type": "stream",
          "name": "stdout",
          "text": [
            "tf.Tensor([[-12.]], shape=(1, 1), dtype=float32)\n",
            "tf.Tensor([[0.]], shape=(1, 1), dtype=float32)\n"
          ]
        }
      ]
    }
  ]
}