{
  "nbformat": 4,
  "nbformat_minor": 0,
  "metadata": {
    "colab": {
      "provenance": [],
      "authorship_tag": "ABX9TyPb09rIdk7eM3gmi7GfHPfS",
      "include_colab_link": true
    },
    "kernelspec": {
      "name": "python3",
      "display_name": "Python 3"
    },
    "language_info": {
      "name": "python"
    }
  },
  "cells": [
    {
      "cell_type": "markdown",
      "metadata": {
        "id": "view-in-github",
        "colab_type": "text"
      },
      "source": [
        "<a href=\"https://colab.research.google.com/github/annazinkevich/machine_learning/blob/Keras/Dropout.ipynb\" target=\"_parent\"><img src=\"https://colab.research.google.com/assets/colab-badge.svg\" alt=\"Open In Colab\"/></a>"
      ]
    },
    {
      "cell_type": "code",
      "execution_count": null,
      "metadata": {
        "id": "jbmXcdMKSvBL"
      },
      "outputs": [],
      "source": [
        "import numpy as np\n",
        "import matplotlib.pyplot as plt\n",
        "from tensorflow.keras.datasets import mnist\n",
        "from tensorflow import keras\n",
        "from tensorflow.keras.layers import Dense, Flatten, Dropout"
      ]
    },
    {
      "cell_type": "markdown",
      "source": [
        "Загрузка обучающей и тестовой выборок"
      ],
      "metadata": {
        "id": "_1ZbR6Q8bYWE"
      }
    },
    {
      "cell_type": "code",
      "source": [
        "(x_train, y_train), (x_test, y_test) = mnist.load_data()"
      ],
      "metadata": {
        "colab": {
          "base_uri": "https://localhost:8080/"
        },
        "id": "CSlhJYRBbbPB",
        "outputId": "e0d7c5ae-e865-42c0-a290-87485cb97cfe"
      },
      "execution_count": null,
      "outputs": [
        {
          "output_type": "stream",
          "name": "stdout",
          "text": [
            "Downloading data from https://storage.googleapis.com/tensorflow/tf-keras-datasets/mnist.npz\n",
            "11490434/11490434 [==============================] - 0s 0us/step\n"
          ]
        }
      ]
    },
    {
      "cell_type": "markdown",
      "source": [
        "Нормализация входных данных"
      ],
      "metadata": {
        "id": "7PfQ6hTZbeib"
      }
    },
    {
      "cell_type": "code",
      "source": [
        "x_train = x_train / 255\n",
        "x_test = x_test / 255"
      ],
      "metadata": {
        "id": "PonyO6npbhTf"
      },
      "execution_count": null,
      "outputs": []
    },
    {
      "cell_type": "markdown",
      "source": [
        "Преобразование выходных значений в векторы по категориям"
      ],
      "metadata": {
        "id": "Z4mtGQDCbkqT"
      }
    },
    {
      "cell_type": "code",
      "source": [
        "y_train_cat = keras.utils.to_categorical(y_train, 10)\n",
        "y_test_cat = keras.utils.to_categorical(y_test, 10)"
      ],
      "metadata": {
        "id": "f4EkXf8ebngT"
      },
      "execution_count": null,
      "outputs": []
    },
    {
      "cell_type": "markdown",
      "source": [
        "Разбиение на обучающую выборку и выборку валидации"
      ],
      "metadata": {
        "id": "mr2vcM6WbxK6"
      }
    },
    {
      "cell_type": "code",
      "source": [
        "limit = 5000\n",
        "x_train_data = x_train[:limit]\n",
        "y_train_data = y_train_cat[:limit]\n",
        "\n",
        "x_valid = x_train[limit:limit*2]\n",
        "y_valid = y_train_cat[limit:limit*2]"
      ],
      "metadata": {
        "id": "pMr7G3Exb5O_"
      },
      "execution_count": null,
      "outputs": []
    },
    {
      "cell_type": "markdown",
      "source": [
        "Формирование модели НС"
      ],
      "metadata": {
        "id": "ETSwRMfXb9DR"
      }
    },
    {
      "cell_type": "code",
      "source": [
        "model = keras.Sequential([\n",
        "    Flatten(input_shape=(28, 28, 1)),\n",
        "    Dense(300, activation='relu'),\n",
        "    Dropout(0.8),\n",
        "    Dense(10, activation='softmax') ])"
      ],
      "metadata": {
        "id": "PTs9kfJicCQe"
      },
      "execution_count": null,
      "outputs": []
    },
    {
      "cell_type": "markdown",
      "source": [
        "Компиляция НС с оптимизацией по Adam и критерием качества - категориальная кросс-энтропия"
      ],
      "metadata": {
        "id": "PqWSqIyycILM"
      }
    },
    {
      "cell_type": "code",
      "source": [
        "model.compile(optimizer='adam',\n",
        "             loss='categorical_crossentropy',\n",
        "             metrics=['accuracy'])"
      ],
      "metadata": {
        "id": "1mMFmCApcJJb"
      },
      "execution_count": null,
      "outputs": []
    },
    {
      "cell_type": "markdown",
      "source": [
        "Запуск процесса обучения"
      ],
      "metadata": {
        "id": "p2IK_d-vcPMv"
      }
    },
    {
      "cell_type": "code",
      "source": [
        "his = model.fit(x_train_data,\n",
        "                y_train_data,\n",
        "                epochs=50,\n",
        "                batch_size=32,\n",
        "                validation_data=(x_valid, y_valid))"
      ],
      "metadata": {
        "colab": {
          "base_uri": "https://localhost:8080/"
        },
        "id": "beN1-nYlcQCj",
        "outputId": "dfa5a324-aa69-49b9-b1fe-f0dc1d57da13"
      },
      "execution_count": null,
      "outputs": [
        {
          "output_type": "stream",
          "name": "stdout",
          "text": [
            "Epoch 1/50\n",
            "157/157 [==============================] - 2s 10ms/step - loss: 1.1628 - accuracy: 0.6274 - val_loss: 0.4966 - val_accuracy: 0.8734\n",
            "Epoch 2/50\n",
            "157/157 [==============================] - 1s 9ms/step - loss: 0.6075 - accuracy: 0.8230 - val_loss: 0.3754 - val_accuracy: 0.9012\n",
            "Epoch 3/50\n",
            "157/157 [==============================] - 2s 10ms/step - loss: 0.4811 - accuracy: 0.8536 - val_loss: 0.3255 - val_accuracy: 0.9074\n",
            "Epoch 4/50\n",
            "157/157 [==============================] - 2s 11ms/step - loss: 0.4376 - accuracy: 0.8688 - val_loss: 0.3012 - val_accuracy: 0.9118\n",
            "Epoch 5/50\n",
            "157/157 [==============================] - 3s 20ms/step - loss: 0.3906 - accuracy: 0.8776 - val_loss: 0.2930 - val_accuracy: 0.9158\n",
            "Epoch 6/50\n",
            "157/157 [==============================] - 2s 14ms/step - loss: 0.3591 - accuracy: 0.8920 - val_loss: 0.2701 - val_accuracy: 0.9220\n",
            "Epoch 7/50\n",
            "157/157 [==============================] - 2s 15ms/step - loss: 0.3327 - accuracy: 0.8978 - val_loss: 0.2613 - val_accuracy: 0.9224\n",
            "Epoch 8/50\n",
            "157/157 [==============================] - 3s 17ms/step - loss: 0.3115 - accuracy: 0.9098 - val_loss: 0.2552 - val_accuracy: 0.9232\n",
            "Epoch 9/50\n",
            "157/157 [==============================] - 2s 16ms/step - loss: 0.2857 - accuracy: 0.9124 - val_loss: 0.2504 - val_accuracy: 0.9254\n",
            "Epoch 10/50\n",
            "157/157 [==============================] - 2s 14ms/step - loss: 0.2820 - accuracy: 0.9148 - val_loss: 0.2439 - val_accuracy: 0.9256\n",
            "Epoch 11/50\n",
            "157/157 [==============================] - 2s 12ms/step - loss: 0.2626 - accuracy: 0.9210 - val_loss: 0.2306 - val_accuracy: 0.9306\n",
            "Epoch 12/50\n",
            "157/157 [==============================] - 1s 8ms/step - loss: 0.2470 - accuracy: 0.9248 - val_loss: 0.2251 - val_accuracy: 0.9326\n",
            "Epoch 13/50\n",
            "157/157 [==============================] - 1s 9ms/step - loss: 0.2453 - accuracy: 0.9250 - val_loss: 0.2229 - val_accuracy: 0.9328\n",
            "Epoch 14/50\n",
            "157/157 [==============================] - 1s 8ms/step - loss: 0.2352 - accuracy: 0.9276 - val_loss: 0.2223 - val_accuracy: 0.9294\n",
            "Epoch 15/50\n",
            "157/157 [==============================] - 2s 10ms/step - loss: 0.2261 - accuracy: 0.9276 - val_loss: 0.2162 - val_accuracy: 0.9318\n",
            "Epoch 16/50\n",
            "157/157 [==============================] - 1s 8ms/step - loss: 0.1982 - accuracy: 0.9380 - val_loss: 0.2225 - val_accuracy: 0.9354\n",
            "Epoch 17/50\n",
            "157/157 [==============================] - 1s 8ms/step - loss: 0.2144 - accuracy: 0.9364 - val_loss: 0.2071 - val_accuracy: 0.9374\n",
            "Epoch 18/50\n",
            "157/157 [==============================] - 2s 12ms/step - loss: 0.1966 - accuracy: 0.9408 - val_loss: 0.2132 - val_accuracy: 0.9372\n",
            "Epoch 19/50\n",
            "157/157 [==============================] - 2s 12ms/step - loss: 0.1832 - accuracy: 0.9436 - val_loss: 0.2161 - val_accuracy: 0.9368\n",
            "Epoch 20/50\n",
            "157/157 [==============================] - 1s 8ms/step - loss: 0.1944 - accuracy: 0.9398 - val_loss: 0.2132 - val_accuracy: 0.9384\n",
            "Epoch 21/50\n",
            "157/157 [==============================] - 1s 8ms/step - loss: 0.1857 - accuracy: 0.9412 - val_loss: 0.2148 - val_accuracy: 0.9402\n",
            "Epoch 22/50\n",
            "157/157 [==============================] - 2s 10ms/step - loss: 0.1862 - accuracy: 0.9408 - val_loss: 0.2050 - val_accuracy: 0.9406\n",
            "Epoch 23/50\n",
            "157/157 [==============================] - 1s 9ms/step - loss: 0.1802 - accuracy: 0.9430 - val_loss: 0.2147 - val_accuracy: 0.9400\n",
            "Epoch 24/50\n",
            "157/157 [==============================] - 1s 8ms/step - loss: 0.1795 - accuracy: 0.9448 - val_loss: 0.2070 - val_accuracy: 0.9402\n",
            "Epoch 25/50\n",
            "157/157 [==============================] - 2s 11ms/step - loss: 0.1669 - accuracy: 0.9432 - val_loss: 0.2140 - val_accuracy: 0.9370\n",
            "Epoch 26/50\n",
            "157/157 [==============================] - 1s 9ms/step - loss: 0.1681 - accuracy: 0.9450 - val_loss: 0.2064 - val_accuracy: 0.9404\n",
            "Epoch 27/50\n",
            "157/157 [==============================] - 2s 14ms/step - loss: 0.1503 - accuracy: 0.9542 - val_loss: 0.2121 - val_accuracy: 0.9414\n",
            "Epoch 28/50\n",
            "157/157 [==============================] - 2s 12ms/step - loss: 0.1578 - accuracy: 0.9478 - val_loss: 0.2140 - val_accuracy: 0.9412\n",
            "Epoch 29/50\n",
            "157/157 [==============================] - 2s 11ms/step - loss: 0.1409 - accuracy: 0.9526 - val_loss: 0.2086 - val_accuracy: 0.9428\n",
            "Epoch 30/50\n",
            "157/157 [==============================] - 1s 8ms/step - loss: 0.1536 - accuracy: 0.9494 - val_loss: 0.2146 - val_accuracy: 0.9424\n",
            "Epoch 31/50\n",
            "157/157 [==============================] - 2s 11ms/step - loss: 0.1472 - accuracy: 0.9512 - val_loss: 0.2089 - val_accuracy: 0.9426\n",
            "Epoch 32/50\n",
            "157/157 [==============================] - 1s 8ms/step - loss: 0.1253 - accuracy: 0.9584 - val_loss: 0.2166 - val_accuracy: 0.9422\n",
            "Epoch 33/50\n",
            "157/157 [==============================] - 1s 8ms/step - loss: 0.1382 - accuracy: 0.9520 - val_loss: 0.2155 - val_accuracy: 0.9410\n",
            "Epoch 34/50\n",
            "157/157 [==============================] - 1s 8ms/step - loss: 0.1264 - accuracy: 0.9576 - val_loss: 0.2081 - val_accuracy: 0.9440\n",
            "Epoch 35/50\n",
            "157/157 [==============================] - 2s 13ms/step - loss: 0.1316 - accuracy: 0.9558 - val_loss: 0.2144 - val_accuracy: 0.9452\n",
            "Epoch 36/50\n",
            "157/157 [==============================] - 2s 13ms/step - loss: 0.1208 - accuracy: 0.9606 - val_loss: 0.2191 - val_accuracy: 0.9428\n",
            "Epoch 37/50\n",
            "157/157 [==============================] - 1s 9ms/step - loss: 0.1345 - accuracy: 0.9518 - val_loss: 0.2053 - val_accuracy: 0.9442\n",
            "Epoch 38/50\n",
            "157/157 [==============================] - 1s 8ms/step - loss: 0.1299 - accuracy: 0.9562 - val_loss: 0.2234 - val_accuracy: 0.9396\n",
            "Epoch 39/50\n",
            "157/157 [==============================] - 1s 9ms/step - loss: 0.1271 - accuracy: 0.9590 - val_loss: 0.2186 - val_accuracy: 0.9428\n",
            "Epoch 40/50\n",
            "157/157 [==============================] - 1s 8ms/step - loss: 0.1297 - accuracy: 0.9532 - val_loss: 0.2054 - val_accuracy: 0.9468\n",
            "Epoch 41/50\n",
            "157/157 [==============================] - 1s 8ms/step - loss: 0.1249 - accuracy: 0.9594 - val_loss: 0.2176 - val_accuracy: 0.9448\n",
            "Epoch 42/50\n",
            "157/157 [==============================] - 1s 8ms/step - loss: 0.1161 - accuracy: 0.9588 - val_loss: 0.2129 - val_accuracy: 0.9462\n",
            "Epoch 43/50\n",
            "157/157 [==============================] - 2s 10ms/step - loss: 0.1145 - accuracy: 0.9626 - val_loss: 0.2213 - val_accuracy: 0.9460\n",
            "Epoch 44/50\n",
            "157/157 [==============================] - 2s 13ms/step - loss: 0.1082 - accuracy: 0.9662 - val_loss: 0.2199 - val_accuracy: 0.9472\n",
            "Epoch 45/50\n",
            "157/157 [==============================] - 1s 8ms/step - loss: 0.1122 - accuracy: 0.9640 - val_loss: 0.2165 - val_accuracy: 0.9462\n",
            "Epoch 46/50\n",
            "157/157 [==============================] - 1s 8ms/step - loss: 0.1204 - accuracy: 0.9588 - val_loss: 0.2250 - val_accuracy: 0.9438\n",
            "Epoch 47/50\n",
            "157/157 [==============================] - 2s 10ms/step - loss: 0.1074 - accuracy: 0.9620 - val_loss: 0.2287 - val_accuracy: 0.9416\n",
            "Epoch 48/50\n",
            "157/157 [==============================] - 2s 13ms/step - loss: 0.1141 - accuracy: 0.9608 - val_loss: 0.2168 - val_accuracy: 0.9478\n",
            "Epoch 49/50\n",
            "157/157 [==============================] - 1s 9ms/step - loss: 0.1065 - accuracy: 0.9626 - val_loss: 0.2323 - val_accuracy: 0.9428\n",
            "Epoch 50/50\n",
            "157/157 [==============================] - 2s 11ms/step - loss: 0.1173 - accuracy: 0.9610 - val_loss: 0.2348 - val_accuracy: 0.9458\n"
          ]
        }
      ]
    },
    {
      "cell_type": "markdown",
      "source": [
        "Графики для обучающей выборки и выборки валидации без использования алгоритма dropout(эффект переобучения)"
      ],
      "metadata": {
        "id": "2Ao64FIAc13L"
      }
    },
    {
      "cell_type": "code",
      "source": [
        "plt.plot(his.history['loss'])\n",
        "plt.plot(his.history['val_loss'])\n",
        "plt.show()"
      ],
      "metadata": {
        "colab": {
          "base_uri": "https://localhost:8080/",
          "height": 435
        },
        "id": "TFc344CSdEwy",
        "outputId": "447087ef-f510-4905-d469-d2c2c9d621f2"
      },
      "execution_count": null,
      "outputs": [
        {
          "output_type": "display_data",
          "data": {
            "text/plain": [
              "<Figure size 640x480 with 1 Axes>"
            ],
            "image/png": "[encoded data removed]"
          },
          "metadata": {}
        }
      ]
    },
    {
      "cell_type": "markdown",
      "source": [
        "Применение алгоритма dropout"
      ],
      "metadata": {
        "id": "CJamun1nd7gV"
      }
    },
    {
      "cell_type": "code",
      "source": [
        "plt.plot(his.history['loss'])\n",
        "plt.plot(his.history['val_loss'])\n",
        "plt.show()"
      ],
      "metadata": {
        "colab": {
          "base_uri": "https://localhost:8080/",
          "height": 430
        },
        "id": "5sWfeJWqeCq5",
        "outputId": "ea8045b8-d8ba-4771-aab9-8099de387549"
      },
      "execution_count": null,
      "outputs": [
        {
          "output_type": "display_data",
          "data": {
            "text/plain": [
              "<Figure size 640x480 with 1 Axes>"
            ],
            "image/png": "[encoded data removed]"
          },
          "metadata": {}
        }
      ]
    }
  ]
}