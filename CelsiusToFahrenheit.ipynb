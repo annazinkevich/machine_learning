{
  "nbformat": 4,
  "nbformat_minor": 0,
  "metadata": {
    "colab": {
      "provenance": [],
      "authorship_tag": "ABX9TyNJP5hdWy9YS/KJstpJSp4m",
      "include_colab_link": true
    },
    "kernelspec": {
      "name": "python3",
      "display_name": "Python 3"
    },
    "language_info": {
      "name": "python"
    }
  },
  "cells": [
    {
      "cell_type": "markdown",
      "metadata": {
        "id": "view-in-github",
        "colab_type": "text"
      },
      "source": [
        "<a href=\"https://colab.research.google.com/github/annazinkevich/machine_learning/blob/Keras/CelsiusToFahrenheit.ipynb\" target=\"_parent\"><img src=\"https://colab.research.google.com/assets/colab-badge.svg\" alt=\"Open In Colab\"/></a>"
      ]
    },
    {
      "cell_type": "markdown",
      "source": [
        "Нейронная сеть, которая будет переводить градусы Цельсия в градусы Фаренгейта (F = C * 1.8 + 32)"
      ],
      "metadata": {
        "id": "1vjqkPPV5yo6"
      }
    },
    {
      "cell_type": "code",
      "execution_count": null,
      "metadata": {
        "id": "-EZFQtOr48mb"
      },
      "outputs": [],
      "source": [
        "import numpy as np\n",
        "import matplotlib.pyplot as plt\n",
        "from tensorflow import keras\n",
        "from tensorflow.keras.layers import Dense"
      ]
    },
    {
      "cell_type": "markdown",
      "source": [
        "Обучающая выборка"
      ],
      "metadata": {
        "id": "v47mzs--6mRH"
      }
    },
    {
      "cell_type": "code",
      "source": [
        "c = np.array([-40, -10, 0, 8, 15, 22, 38])\n",
        "f = np.array([-40, 14, 32, 46, 59, 72, 100])"
      ],
      "metadata": {
        "id": "7jIGg8XO6p44"
      },
      "execution_count": null,
      "outputs": []
    },
    {
      "cell_type": "markdown",
      "source": [
        "Модель многослойной нейронной сети"
      ],
      "metadata": {
        "id": "6LZuV2wR7DAz"
      }
    },
    {
      "cell_type": "code",
      "source": [
        "model = keras.Sequential()"
      ],
      "metadata": {
        "id": "A7uO4cXK7LlA"
      },
      "execution_count": null,
      "outputs": []
    },
    {
      "cell_type": "markdown",
      "source": [
        "Слой нейронов полносвязной нейронной сети"
      ],
      "metadata": {
        "id": "PsbxhSsl7ck5"
      }
    },
    {
      "cell_type": "code",
      "source": [
        "model.add(Dense(units=1, input_shape=(1,), activation='linear'))"
      ],
      "metadata": {
        "id": "a9yhR0hg7kpm"
      },
      "execution_count": null,
      "outputs": []
    },
    {
      "cell_type": "markdown",
      "source": [
        "Компиляция нейронной сети с указанием критерия качества и способа оптимизации алгоритма градиентного спуска"
      ],
      "metadata": {
        "id": "anTb5j1b8MoY"
      }
    },
    {
      "cell_type": "code",
      "source": [
        "model.compile(loss='mean_squared_error', optimizer=keras.optimizers.Adam(0.1))"
      ],
      "metadata": {
        "id": "3eGalB4s8mvJ"
      },
      "execution_count": null,
      "outputs": []
    },
    {
      "cell_type": "markdown",
      "source": [
        "Алгоритм обучения нейронной сети"
      ],
      "metadata": {
        "id": "H8wh40wv9Hmu"
      }
    },
    {
      "cell_type": "code",
      "source": [
        "history = model.fit(c, f, epochs=500, verbose=False)"
      ],
      "metadata": {
        "id": "PqKIJjn79LJt"
      },
      "execution_count": null,
      "outputs": []
    },
    {
      "cell_type": "markdown",
      "source": [
        "Критерий качества для каждой эпохи"
      ],
      "metadata": {
        "id": "BaF9Txec9mO4"
      }
    },
    {
      "cell_type": "code",
      "source": [
        "plt.plot(history.history['loss'])\n",
        "plt.grid(True)\n",
        "plt.show()"
      ],
      "metadata": {
        "colab": {
          "base_uri": "https://localhost:8080/",
          "height": 430
        },
        "id": "AFIbBzLH9rJB",
        "outputId": "693783d1-3abf-4e16-a920-7cff4afc46bc"
      },
      "execution_count": null,
      "outputs": [
        {
          "output_type": "display_data",
          "data": {
            "text/plain": [
              "<Figure size 640x480 with 1 Axes>"
            ],
            "image/png": "[encoded data removed]"
          },
          "metadata": {}
        }
      ]
    },
    {
      "cell_type": "markdown",
      "source": [
        "Предсказание для произвольного значения"
      ],
      "metadata": {
        "id": "y6oACNfV-BGU"
      }
    },
    {
      "cell_type": "code",
      "source": [
        "print(model.predict([100]))"
      ],
      "metadata": {
        "colab": {
          "base_uri": "https://localhost:8080/"
        },
        "id": "IkSK-9tr-Otg",
        "outputId": "37f1fbd8-5352-4b1d-c83e-86a1389e1840"
      },
      "execution_count": null,
      "outputs": [
        {
          "output_type": "stream",
          "name": "stdout",
          "text": [
            "1/1 [==============================] - 0s 98ms/step\n",
            "[[211.30954]]\n"
          ]
        }
      ]
    },
    {
      "cell_type": "markdown",
      "source": [
        "Весовые коэффициенты"
      ],
      "metadata": {
        "id": "YUTzZ0jH-iI-"
      }
    },
    {
      "cell_type": "code",
      "source": [
        "print(model.get_weights())"
      ],
      "metadata": {
        "colab": {
          "base_uri": "https://localhost:8080/"
        },
        "id": "v7awsT4Z-k-T",
        "outputId": "9989540f-0692-4b0c-89c9-e3e64285e788"
      },
      "execution_count": null,
      "outputs": [
        {
          "output_type": "stream",
          "name": "stdout",
          "text": [
            "[array([[1.8243848]], dtype=float32), array([28.871069], dtype=float32)]\n"
          ]
        }
      ]
    }
  ]
}