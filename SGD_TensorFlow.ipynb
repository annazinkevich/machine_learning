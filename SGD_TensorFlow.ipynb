{
  "nbformat": 4,
  "nbformat_minor": 0,
  "metadata": {
    "colab": {
      "provenance": [],
      "authorship_tag": "ABX9TyPiHvuKfmubDFisBRQ8c3iB",
      "include_colab_link": true
    },
    "kernelspec": {
      "name": "python3",
      "display_name": "Python 3"
    },
    "language_info": {
      "name": "python"
    }
  },
  "cells": [
    {
      "cell_type": "markdown",
      "metadata": {
        "id": "view-in-github",
        "colab_type": "text"
      },
      "source": [
        "<a href=\"https://colab.research.google.com/github/annazinkevich/machine_learning/blob/TensorFlow/SGD_TensorFlow.ipynb\" target=\"_parent\"><img src=\"https://colab.research.google.com/assets/colab-badge.svg\" alt=\"Open In Colab\"/></a>"
      ]
    },
    {
      "cell_type": "markdown",
      "source": [
        "Реализация стохастического градиентного спуска для определения точки минимума функции"
      ],
      "metadata": {
        "id": "xNFx2EkKsf-T"
      }
    },
    {
      "cell_type": "code",
      "source": [
        "import tensorflow as tf"
      ],
      "metadata": {
        "id": "nf0A9284sWw9"
      },
      "execution_count": null,
      "outputs": []
    },
    {
      "cell_type": "markdown",
      "source": [
        "Задаем начальную точку и функцию, для которой необходимо найти минимум"
      ],
      "metadata": {
        "id": "qpefqFVmsbPq"
      }
    },
    {
      "cell_type": "code",
      "source": [
        "x = tf.Variable(-1.0)\n",
        "y = lambda: x ** 2 - x"
      ],
      "metadata": {
        "id": "vWEUX6JNs72i"
      },
      "execution_count": null,
      "outputs": []
    },
    {
      "cell_type": "markdown",
      "source": [
        "Стохастический градиентный спуск"
      ],
      "metadata": {
        "id": "4BHwDqaEr8k-"
      }
    },
    {
      "cell_type": "code",
      "execution_count": null,
      "metadata": {
        "colab": {
          "base_uri": "https://localhost:8080/"
        },
        "id": "CNPcC0Skr6qs",
        "outputId": "1cf5a220-888d-482e-fdde-48f744edb2bc"
      },
      "outputs": [
        {
          "output_type": "stream",
          "name": "stdout",
          "text": [
            "0.49999994\n"
          ]
        }
      ],
      "source": [
        "N = 100       #количество итераций\n",
        "opt = tf.optimizers.SGD(learning_rate=0.1)\n",
        "for n in range(N):\n",
        "  opt.minimize(y, [x])\n",
        "\n",
        "print(x.numpy())"
      ]
    }
  ]
}